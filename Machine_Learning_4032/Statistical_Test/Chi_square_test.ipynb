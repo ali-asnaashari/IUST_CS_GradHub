{
 "cells": [
  {
   "metadata": {
    "ExecuteTime": {
     "end_time": "2025-03-11T05:31:11.634572Z",
     "start_time": "2025-03-11T05:31:11.630427Z"
    }
   },
   "cell_type": "code",
   "source": [
    "import numpy as np\n",
    "import pandas as pd\n",
    "import seaborn as sns\n",
    "import matplotlib.pyplot as plt"
   ],
   "id": "15b67cf79acb78ad",
   "outputs": [],
   "execution_count": 2
  },
  {
   "metadata": {},
   "cell_type": "code",
   "outputs": [],
   "execution_count": null,
   "source": [
    "# Define the number of samples\n",
    "ss = 100000"
   ],
   "id": "747783a79e8698e"
  },
  {
   "metadata": {},
   "cell_type": "code",
   "outputs": [],
   "execution_count": null,
   "source": [
    "# Generate data: Squared values of normal distributions\n",
    "X1 = np.random.normal(size=ss)**2\n",
    "X2 = np.random.normal(size=ss)**2 + np.random.normal(size=ss)**2\n",
    "X3 = np.random.normal(size=ss)**2 + np.random.normal(size=ss)**2 + np.random.normal(size=ss)**2\n",
    "X4 = np.random.normal(size=ss)**2 + np.random.normal(size=ss)**2 + np.random.normal(size=ss)**2 + np.random.normal(size=ss)**2"
   ],
   "id": "4d9c55b9647cf176"
  },
  {
   "metadata": {
    "ExecuteTime": {
     "end_time": "2025-03-11T05:32:19.031536Z",
     "start_time": "2025-03-11T05:32:19.019531Z"
    }
   },
   "cell_type": "code",
   "source": [
    "# Create a DataFrame to store the data\n",
    "df = pd.DataFrame({'X1': X1, 'X2': X2, 'X3': X3, 'X4': X4})\n",
    "df"
   ],
   "id": "5060a1b7888ad569",
   "outputs": [
    {
     "data": {
      "text/plain": [
       "             X1        X2        X3        X4\n",
       "0      0.025954  2.396669  3.384979  8.336916\n",
       "1      0.554002  2.223585  1.168688  4.215432\n",
       "2      0.375932  1.227916  0.191565  3.715057\n",
       "3      0.241370  8.439773  1.483601  6.137187\n",
       "4      0.518041  1.659523  1.372301  1.835476\n",
       "...         ...       ...       ...       ...\n",
       "99995  0.048222  1.162990  2.159657  4.963938\n",
       "99996  0.155389  3.353181  1.776072  4.022225\n",
       "99997  0.034832  1.000553  3.705003  5.069468\n",
       "99998  0.385553  1.390225  3.583108  5.947567\n",
       "99999  1.333693  0.671320  0.405041  1.335118\n",
       "\n",
       "[100000 rows x 4 columns]"
      ],
      "text/html": [
       "<div>\n",
       "<style scoped>\n",
       "    .dataframe tbody tr th:only-of-type {\n",
       "        vertical-align: middle;\n",
       "    }\n",
       "\n",
       "    .dataframe tbody tr th {\n",
       "        vertical-align: top;\n",
       "    }\n",
       "\n",
       "    .dataframe thead th {\n",
       "        text-align: right;\n",
       "    }\n",
       "</style>\n",
       "<table border=\"1\" class=\"dataframe\">\n",
       "  <thead>\n",
       "    <tr style=\"text-align: right;\">\n",
       "      <th></th>\n",
       "      <th>X1</th>\n",
       "      <th>X2</th>\n",
       "      <th>X3</th>\n",
       "      <th>X4</th>\n",
       "    </tr>\n",
       "  </thead>\n",
       "  <tbody>\n",
       "    <tr>\n",
       "      <th>0</th>\n",
       "      <td>0.025954</td>\n",
       "      <td>2.396669</td>\n",
       "      <td>3.384979</td>\n",
       "      <td>8.336916</td>\n",
       "    </tr>\n",
       "    <tr>\n",
       "      <th>1</th>\n",
       "      <td>0.554002</td>\n",
       "      <td>2.223585</td>\n",
       "      <td>1.168688</td>\n",
       "      <td>4.215432</td>\n",
       "    </tr>\n",
       "    <tr>\n",
       "      <th>2</th>\n",
       "      <td>0.375932</td>\n",
       "      <td>1.227916</td>\n",
       "      <td>0.191565</td>\n",
       "      <td>3.715057</td>\n",
       "    </tr>\n",
       "    <tr>\n",
       "      <th>3</th>\n",
       "      <td>0.241370</td>\n",
       "      <td>8.439773</td>\n",
       "      <td>1.483601</td>\n",
       "      <td>6.137187</td>\n",
       "    </tr>\n",
       "    <tr>\n",
       "      <th>4</th>\n",
       "      <td>0.518041</td>\n",
       "      <td>1.659523</td>\n",
       "      <td>1.372301</td>\n",
       "      <td>1.835476</td>\n",
       "    </tr>\n",
       "    <tr>\n",
       "      <th>...</th>\n",
       "      <td>...</td>\n",
       "      <td>...</td>\n",
       "      <td>...</td>\n",
       "      <td>...</td>\n",
       "    </tr>\n",
       "    <tr>\n",
       "      <th>99995</th>\n",
       "      <td>0.048222</td>\n",
       "      <td>1.162990</td>\n",
       "      <td>2.159657</td>\n",
       "      <td>4.963938</td>\n",
       "    </tr>\n",
       "    <tr>\n",
       "      <th>99996</th>\n",
       "      <td>0.155389</td>\n",
       "      <td>3.353181</td>\n",
       "      <td>1.776072</td>\n",
       "      <td>4.022225</td>\n",
       "    </tr>\n",
       "    <tr>\n",
       "      <th>99997</th>\n",
       "      <td>0.034832</td>\n",
       "      <td>1.000553</td>\n",
       "      <td>3.705003</td>\n",
       "      <td>5.069468</td>\n",
       "    </tr>\n",
       "    <tr>\n",
       "      <th>99998</th>\n",
       "      <td>0.385553</td>\n",
       "      <td>1.390225</td>\n",
       "      <td>3.583108</td>\n",
       "      <td>5.947567</td>\n",
       "    </tr>\n",
       "    <tr>\n",
       "      <th>99999</th>\n",
       "      <td>1.333693</td>\n",
       "      <td>0.671320</td>\n",
       "      <td>0.405041</td>\n",
       "      <td>1.335118</td>\n",
       "    </tr>\n",
       "  </tbody>\n",
       "</table>\n",
       "<p>100000 rows × 4 columns</p>\n",
       "</div>"
      ]
     },
     "execution_count": 5,
     "metadata": {},
     "output_type": "execute_result"
    }
   ],
   "execution_count": 5
  },
  {
   "metadata": {
    "ExecuteTime": {
     "end_time": "2025-03-11T05:32:11.126571Z",
     "start_time": "2025-03-11T05:32:11.105560Z"
    }
   },
   "cell_type": "code",
   "source": [
    "# Melt the DataFrame to make it suitable for plotting\n",
    "df_melted = df.melt(var_name=\"Variable\", value_name=\"Value\")\n",
    "df_melted"
   ],
   "id": "cb304d0164878ddc",
   "outputs": [
    {
     "data": {
      "text/plain": [
       "       Variable     Value\n",
       "0            X1  0.025954\n",
       "1            X1  0.554002\n",
       "2            X1  0.375932\n",
       "3            X1  0.241370\n",
       "4            X1  0.518041\n",
       "...         ...       ...\n",
       "399995       X4  4.963938\n",
       "399996       X4  4.022225\n",
       "399997       X4  5.069468\n",
       "399998       X4  5.947567\n",
       "399999       X4  1.335118\n",
       "\n",
       "[400000 rows x 2 columns]"
      ],
      "text/html": [
       "<div>\n",
       "<style scoped>\n",
       "    .dataframe tbody tr th:only-of-type {\n",
       "        vertical-align: middle;\n",
       "    }\n",
       "\n",
       "    .dataframe tbody tr th {\n",
       "        vertical-align: top;\n",
       "    }\n",
       "\n",
       "    .dataframe thead th {\n",
       "        text-align: right;\n",
       "    }\n",
       "</style>\n",
       "<table border=\"1\" class=\"dataframe\">\n",
       "  <thead>\n",
       "    <tr style=\"text-align: right;\">\n",
       "      <th></th>\n",
       "      <th>Variable</th>\n",
       "      <th>Value</th>\n",
       "    </tr>\n",
       "  </thead>\n",
       "  <tbody>\n",
       "    <tr>\n",
       "      <th>0</th>\n",
       "      <td>X1</td>\n",
       "      <td>0.025954</td>\n",
       "    </tr>\n",
       "    <tr>\n",
       "      <th>1</th>\n",
       "      <td>X1</td>\n",
       "      <td>0.554002</td>\n",
       "    </tr>\n",
       "    <tr>\n",
       "      <th>2</th>\n",
       "      <td>X1</td>\n",
       "      <td>0.375932</td>\n",
       "    </tr>\n",
       "    <tr>\n",
       "      <th>3</th>\n",
       "      <td>X1</td>\n",
       "      <td>0.241370</td>\n",
       "    </tr>\n",
       "    <tr>\n",
       "      <th>4</th>\n",
       "      <td>X1</td>\n",
       "      <td>0.518041</td>\n",
       "    </tr>\n",
       "    <tr>\n",
       "      <th>...</th>\n",
       "      <td>...</td>\n",
       "      <td>...</td>\n",
       "    </tr>\n",
       "    <tr>\n",
       "      <th>399995</th>\n",
       "      <td>X4</td>\n",
       "      <td>4.963938</td>\n",
       "    </tr>\n",
       "    <tr>\n",
       "      <th>399996</th>\n",
       "      <td>X4</td>\n",
       "      <td>4.022225</td>\n",
       "    </tr>\n",
       "    <tr>\n",
       "      <th>399997</th>\n",
       "      <td>X4</td>\n",
       "      <td>5.069468</td>\n",
       "    </tr>\n",
       "    <tr>\n",
       "      <th>399998</th>\n",
       "      <td>X4</td>\n",
       "      <td>5.947567</td>\n",
       "    </tr>\n",
       "    <tr>\n",
       "      <th>399999</th>\n",
       "      <td>X4</td>\n",
       "      <td>1.335118</td>\n",
       "    </tr>\n",
       "  </tbody>\n",
       "</table>\n",
       "<p>400000 rows × 2 columns</p>\n",
       "</div>"
      ]
     },
     "execution_count": 4,
     "metadata": {},
     "output_type": "execute_result"
    }
   ],
   "execution_count": 4
  },
  {
   "metadata": {
    "ExecuteTime": {
     "end_time": "2025-03-11T05:32:50.460255Z",
     "start_time": "2025-03-11T05:32:48.238767Z"
    }
   },
   "cell_type": "code",
   "source": [
    "# Plot density curves for each variable\n",
    "plt.figure(figsize=(10, 6))\n",
    "sns.kdeplot(data=df_melted, x=\"Value\", hue=\"Variable\", common_norm=False)\n",
    "plt.xlabel(\"Value\")\n",
    "plt.ylabel(\"Density\")\n",
    "plt.title(\"Density Plot of Different X Variables\")\n",
    "plt.show()"
   ],
   "id": "6c0bf264ac0420e3",
   "outputs": [
    {
     "data": {
      "text/plain": [
       "<Figure size 1000x600 with 1 Axes>"
      ],
      "image/png": "[encoded data removed]"
     },
     "metadata": {},
     "output_type": "display_data"
    }
   ],
   "execution_count": 6
  }
 ],
 "metadata": {
  "kernelspec": {
   "display_name": "Python 3",
   "language": "python",
   "name": "python3"
  },
  "language_info": {
   "codemirror_mode": {
    "name": "ipython",
    "version": 2
   },
   "file_extension": ".py",
   "mimetype": "text/x-python",
   "name": "python",
   "nbconvert_exporter": "python",
   "pygments_lexer": "ipython2",
   "version": "2.7.6"
  }
 },
 "nbformat": 4,
 "nbformat_minor": 5
}
